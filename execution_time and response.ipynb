{
 "cells": [
  {
   "cell_type": "code",
   "execution_count": null,
   "metadata": {
    "colab": {
     "base_uri": "https://localhost:8080/"
    },
    "executionInfo": {
     "elapsed": 5535,
     "status": "ok",
     "timestamp": 1746389920001,
     "user": {
      "displayName": "Noman Abdullah",
      "userId": "08138787502680395402"
     },
     "user_tz": -360
    },
    "id": "C10p2jO94EXK",
    "outputId": "98f645ab-89a1-4f38-d162-58386d9b4298"
   },
   "outputs": [
    {
     "name": "stdout",
     "output_type": "stream",
     "text": [
      "Requirement already satisfied: openai in /usr/local/lib/python3.11/dist-packages (1.76.0)\n",
      "Requirement already satisfied: anyio<5,>=3.5.0 in /usr/local/lib/python3.11/dist-packages (from openai) (4.9.0)\n",
      "Requirement already satisfied: distro<2,>=1.7.0 in /usr/local/lib/python3.11/dist-packages (from openai) (1.9.0)\n",
      "Requirement already satisfied: httpx<1,>=0.23.0 in /usr/local/lib/python3.11/dist-packages (from openai) (0.28.1)\n",
      "Requirement already satisfied: jiter<1,>=0.4.0 in /usr/local/lib/python3.11/dist-packages (from openai) (0.9.0)\n",
      "Requirement already satisfied: pydantic<3,>=1.9.0 in /usr/local/lib/python3.11/dist-packages (from openai) (2.11.3)\n",
      "Requirement already satisfied: sniffio in /usr/local/lib/python3.11/dist-packages (from openai) (1.3.1)\n",
      "Requirement already satisfied: tqdm>4 in /usr/local/lib/python3.11/dist-packages (from openai) (4.67.1)\n",
      "Requirement already satisfied: typing-extensions<5,>=4.11 in /usr/local/lib/python3.11/dist-packages (from openai) (4.13.2)\n",
      "Requirement already satisfied: idna>=2.8 in /usr/local/lib/python3.11/dist-packages (from anyio<5,>=3.5.0->openai) (3.10)\n",
      "Requirement already satisfied: certifi in /usr/local/lib/python3.11/dist-packages (from httpx<1,>=0.23.0->openai) (2025.4.26)\n",
      "Requirement already satisfied: httpcore==1.* in /usr/local/lib/python3.11/dist-packages (from httpx<1,>=0.23.0->openai) (1.0.9)\n",
      "Requirement already satisfied: h11>=0.16 in /usr/local/lib/python3.11/dist-packages (from httpcore==1.*->httpx<1,>=0.23.0->openai) (0.16.0)\n",
      "Requirement already satisfied: annotated-types>=0.6.0 in /usr/local/lib/python3.11/dist-packages (from pydantic<3,>=1.9.0->openai) (0.7.0)\n",
      "Requirement already satisfied: pydantic-core==2.33.1 in /usr/local/lib/python3.11/dist-packages (from pydantic<3,>=1.9.0->openai) (2.33.1)\n",
      "Requirement already satisfied: typing-inspection>=0.4.0 in /usr/local/lib/python3.11/dist-packages (from pydantic<3,>=1.9.0->openai) (0.4.0)\n"
     ]
    }
   ],
   "source": [
    "!pip install openai"
   ]
  },
  {
   "cell_type": "code",
   "execution_count": null,
   "metadata": {
    "colab": {
     "base_uri": "https://localhost:8080/"
    },
    "executionInfo": {
     "elapsed": 5236,
     "status": "ok",
     "timestamp": 1746389925250,
     "user": {
      "displayName": "Noman Abdullah",
      "userId": "08138787502680395402"
     },
     "user_tz": -360
    },
    "id": "j5oWM3n94SUp",
    "outputId": "23f11bc7-5613-4e68-b56a-dcf3f0aa17d9"
   },
   "outputs": [
    {
     "name": "stdout",
     "output_type": "stream",
     "text": [
      "Requirement already satisfied: google-generativeai in /usr/local/lib/python3.11/dist-packages (0.8.5)\n",
      "Requirement already satisfied: google-ai-generativelanguage==0.6.15 in /usr/local/lib/python3.11/dist-packages (from google-generativeai) (0.6.15)\n",
      "Requirement already satisfied: google-api-core in /usr/local/lib/python3.11/dist-packages (from google-generativeai) (2.24.2)\n",
      "Requirement already satisfied: google-api-python-client in /usr/local/lib/python3.11/dist-packages (from google-generativeai) (2.169.0)\n",
      "Requirement already satisfied: google-auth>=2.15.0 in /usr/local/lib/python3.11/dist-packages (from google-generativeai) (2.38.0)\n",
      "Requirement already satisfied: protobuf in /usr/local/lib/python3.11/dist-packages (from google-generativeai) (5.29.4)\n",
      "Requirement already satisfied: pydantic in /usr/local/lib/python3.11/dist-packages (from google-generativeai) (2.11.3)\n",
      "Requirement already satisfied: tqdm in /usr/local/lib/python3.11/dist-packages (from google-generativeai) (4.67.1)\n",
      "Requirement already satisfied: typing-extensions in /usr/local/lib/python3.11/dist-packages (from google-generativeai) (4.13.2)\n",
      "Requirement already satisfied: proto-plus<2.0.0dev,>=1.22.3 in /usr/local/lib/python3.11/dist-packages (from google-ai-generativelanguage==0.6.15->google-generativeai) (1.26.1)\n",
      "Requirement already satisfied: googleapis-common-protos<2.0.0,>=1.56.2 in /usr/local/lib/python3.11/dist-packages (from google-api-core->google-generativeai) (1.70.0)\n",
      "Requirement already satisfied: requests<3.0.0,>=2.18.0 in /usr/local/lib/python3.11/dist-packages (from google-api-core->google-generativeai) (2.32.3)\n",
      "Requirement already satisfied: cachetools<6.0,>=2.0.0 in /usr/local/lib/python3.11/dist-packages (from google-auth>=2.15.0->google-generativeai) (5.5.2)\n",
      "Requirement already satisfied: pyasn1-modules>=0.2.1 in /usr/local/lib/python3.11/dist-packages (from google-auth>=2.15.0->google-generativeai) (0.4.2)\n",
      "Requirement already satisfied: rsa<5,>=3.1.4 in /usr/local/lib/python3.11/dist-packages (from google-auth>=2.15.0->google-generativeai) (4.9.1)\n",
      "Requirement already satisfied: httplib2<1.0.0,>=0.19.0 in /usr/local/lib/python3.11/dist-packages (from google-api-python-client->google-generativeai) (0.22.0)\n",
      "Requirement already satisfied: google-auth-httplib2<1.0.0,>=0.2.0 in /usr/local/lib/python3.11/dist-packages (from google-api-python-client->google-generativeai) (0.2.0)\n",
      "Requirement already satisfied: uritemplate<5,>=3.0.1 in /usr/local/lib/python3.11/dist-packages (from google-api-python-client->google-generativeai) (4.1.1)\n",
      "Requirement already satisfied: annotated-types>=0.6.0 in /usr/local/lib/python3.11/dist-packages (from pydantic->google-generativeai) (0.7.0)\n",
      "Requirement already satisfied: pydantic-core==2.33.1 in /usr/local/lib/python3.11/dist-packages (from pydantic->google-generativeai) (2.33.1)\n",
      "Requirement already satisfied: typing-inspection>=0.4.0 in /usr/local/lib/python3.11/dist-packages (from pydantic->google-generativeai) (0.4.0)\n",
      "Requirement already satisfied: grpcio<2.0dev,>=1.33.2 in /usr/local/lib/python3.11/dist-packages (from google-api-core[grpc]!=2.0.*,!=2.1.*,!=2.10.*,!=2.2.*,!=2.3.*,!=2.4.*,!=2.5.*,!=2.6.*,!=2.7.*,!=2.8.*,!=2.9.*,<3.0.0dev,>=1.34.1->google-ai-generativelanguage==0.6.15->google-generativeai) (1.71.0)\n",
      "Requirement already satisfied: grpcio-status<2.0.dev0,>=1.33.2 in /usr/local/lib/python3.11/dist-packages (from google-api-core[grpc]!=2.0.*,!=2.1.*,!=2.10.*,!=2.2.*,!=2.3.*,!=2.4.*,!=2.5.*,!=2.6.*,!=2.7.*,!=2.8.*,!=2.9.*,<3.0.0dev,>=1.34.1->google-ai-generativelanguage==0.6.15->google-generativeai) (1.71.0)\n",
      "Requirement already satisfied: pyparsing!=3.0.0,!=3.0.1,!=3.0.2,!=3.0.3,<4,>=2.4.2 in /usr/local/lib/python3.11/dist-packages (from httplib2<1.0.0,>=0.19.0->google-api-python-client->google-generativeai) (3.2.3)\n",
      "Requirement already satisfied: pyasn1<0.7.0,>=0.6.1 in /usr/local/lib/python3.11/dist-packages (from pyasn1-modules>=0.2.1->google-auth>=2.15.0->google-generativeai) (0.6.1)\n",
      "Requirement already satisfied: charset-normalizer<4,>=2 in /usr/local/lib/python3.11/dist-packages (from requests<3.0.0,>=2.18.0->google-api-core->google-generativeai) (3.4.1)\n",
      "Requirement already satisfied: idna<4,>=2.5 in /usr/local/lib/python3.11/dist-packages (from requests<3.0.0,>=2.18.0->google-api-core->google-generativeai) (3.10)\n",
      "Requirement already satisfied: urllib3<3,>=1.21.1 in /usr/local/lib/python3.11/dist-packages (from requests<3.0.0,>=2.18.0->google-api-core->google-generativeai) (2.4.0)\n",
      "Requirement already satisfied: certifi>=2017.4.17 in /usr/local/lib/python3.11/dist-packages (from requests<3.0.0,>=2.18.0->google-api-core->google-generativeai) (2025.4.26)\n"
     ]
    }
   ],
   "source": [
    "!pip install google-generativeai"
   ]
  },
  {
   "cell_type": "code",
   "execution_count": null,
   "metadata": {
    "colab": {
     "base_uri": "https://localhost:8080/"
    },
    "executionInfo": {
     "elapsed": 17478,
     "status": "ok",
     "timestamp": 1746389942731,
     "user": {
      "displayName": "Noman Abdullah",
      "userId": "08138787502680395402"
     },
     "user_tz": -360
    },
    "id": "XddjwvAk5Lrd",
    "outputId": "326e405a-d2c1-497c-e3c7-f50149506628"
   },
   "outputs": [
    {
     "name": "stdout",
     "output_type": "stream",
     "text": [
      "Requirement already satisfied: replicate in /usr/local/lib/python3.11/dist-packages (1.0.6)\n",
      "Requirement already satisfied: httpx<1,>=0.21.0 in /usr/local/lib/python3.11/dist-packages (from replicate) (0.28.1)\n",
      "Requirement already satisfied: packaging in /usr/local/lib/python3.11/dist-packages (from replicate) (24.2)\n",
      "Requirement already satisfied: pydantic>1.10.7 in /usr/local/lib/python3.11/dist-packages (from replicate) (2.11.3)\n",
      "Requirement already satisfied: typing_extensions>=4.5.0 in /usr/local/lib/python3.11/dist-packages (from replicate) (4.13.2)\n",
      "Requirement already satisfied: anyio in /usr/local/lib/python3.11/dist-packages (from httpx<1,>=0.21.0->replicate) (4.9.0)\n",
      "Requirement already satisfied: certifi in /usr/local/lib/python3.11/dist-packages (from httpx<1,>=0.21.0->replicate) (2025.4.26)\n",
      "Requirement already satisfied: httpcore==1.* in /usr/local/lib/python3.11/dist-packages (from httpx<1,>=0.21.0->replicate) (1.0.9)\n",
      "Requirement already satisfied: idna in /usr/local/lib/python3.11/dist-packages (from httpx<1,>=0.21.0->replicate) (3.10)\n",
      "Requirement already satisfied: h11>=0.16 in /usr/local/lib/python3.11/dist-packages (from httpcore==1.*->httpx<1,>=0.21.0->replicate) (0.16.0)\n",
      "Requirement already satisfied: annotated-types>=0.6.0 in /usr/local/lib/python3.11/dist-packages (from pydantic>1.10.7->replicate) (0.7.0)\n",
      "Requirement already satisfied: pydantic-core==2.33.1 in /usr/local/lib/python3.11/dist-packages (from pydantic>1.10.7->replicate) (2.33.1)\n",
      "Requirement already satisfied: typing-inspection>=0.4.0 in /usr/local/lib/python3.11/dist-packages (from pydantic>1.10.7->replicate) (0.4.0)\n",
      "Requirement already satisfied: sniffio>=1.1 in /usr/local/lib/python3.11/dist-packages (from anyio->httpx<1,>=0.21.0->replicate) (1.3.1)\n"
     ]
    }
   ],
   "source": [
    "!pip install replicate"
   ]
  },
  {
   "cell_type": "code",
   "execution_count": null,
   "metadata": {
    "colab": {
     "base_uri": "https://localhost:8080/"
    },
    "executionInfo": {
     "elapsed": 31183,
     "status": "ok",
     "timestamp": 1746391283294,
     "user": {
      "displayName": "Noman Abdullah",
      "userId": "08138787502680395402"
     },
     "user_tz": -360
    },
    "id": "y8evwhXJ5G0k",
    "outputId": "175f641a-face-480c-a009-cff85e9f4903"
   },
   "outputs": [],
   "source": [
    "import time\n",
    "import requests\n",
    "from openai import OpenAI\n",
    "import google.generativeai as genai\n",
    "import replicate\n",
    "\n",
    "MODEL_HANDLERS = {\n",
    "    \"Open AI\": {\n",
    "        \"client\": lambda key: OpenAI(api_key=key),\n",
    "        \"call\": lambda client, prompt: client.chat.completions.create(\n",
    "            model=\"gpt-4o\",\n",
    "            messages=[{\"role\": \"user\", \"content\": prompt}]\n",
    "        ),\n",
    "        \"extract\": lambda response: response.choices[0].message.content\n",
    "    },\n",
    "    \"Gemini 2.0\": {\n",
    "        \"client\": lambda key: genai.configure(api_key=key),\n",
    "        \"call\": lambda client, prompt: genai.generate_content(prompt),\n",
    "        \"extract\": lambda response: response.text\n",
    "    },\n",
    "    \"deepseekR1\": {\n",
    "        \"client\": lambda key: OpenAI(api_key=key, base_url=\"https://api.deepseek.com/v1\"),\n",
    "        \"call\": lambda client, prompt: client.chat.completions.create(\n",
    "            model=\"deepseek-r1\",\n",
    "            messages=[{\"role\": \"user\", \"content\": prompt}]\n",
    "        ),\n",
    "        \"extract\": lambda response: response.choices[0].message.content\n",
    "    },\n",
    "    \"deepseekV3\": {\n",
    "        \"client\": lambda key: OpenAI(api_key=key, base_url=\"https://api.deepseek.com/v1\"),\n",
    "        \"call\": lambda client, prompt: client.chat.completions.create(\n",
    "            model=\"deepseek-v3\",\n",
    "            messages=[{\"role\": \"user\", \"content\": prompt}]\n",
    "        ),\n",
    "        \"extract\": lambda response: response.choices[0].message.content\n",
    "    },\n",
    "    \"Qwen3 235B A22B\": {\n",
    "        \"client\": lambda key: key,\n",
    "        \"call\": lambda client, prompt: requests.post(\n",
    "            \"https://api.alibaba.com/qwen\",\n",
    "            headers={\"Authorization\": f\"Bearer {client}\"},\n",
    "            json={\"inputs\": prompt}\n",
    "        ),\n",
    "        \"extract\": lambda response: response.json()[\"generated_text\"]\n",
    "    },\n",
    "    \"Microsoft: Phi 4 Reasoning Plus\": {\n",
    "        \"client\": lambda key: OpenAI(api_key=key, base_url=\"https://phi.resources.azure.com/\"),\n",
    "        \"call\": lambda client, prompt: client.chat.completions.create(\n",
    "            model=\"phi-4-reasoning-plus\",\n",
    "            messages=[{\"role\": \"user\", \"content\": prompt}]\n",
    "        ),\n",
    "        \"extract\": lambda response: response.choices[0].message.content\n",
    "    },\n",
    "    \"Llama 4 Maverick\": {\n",
    "        \"client\": lambda key: key,\n",
    "        \"call\": lambda client, prompt: replicate.run(\n",
    "            \"meta/llama-4-maverick\",\n",
    "            input={\"prompt\": prompt},\n",
    "            auth=client\n",
    "        ),\n",
    "        \"extract\": lambda response: \"\".join(response)\n",
    "    },\n",
    "    \"Llama 3.3 70B Instruct\": {\n",
    "        \"client\": lambda key: OpenAI(api_key=key, base_url=\"http://localhost:11434/v1\"),\n",
    "        \"call\": lambda client, prompt: client.chat.completions.create(\n",
    "            model=\"llama-3-70b-instruct\",\n",
    "            messages=[{\"role\": \"user\", \"content\": prompt}]\n",
    "        ),\n",
    "        \"extract\": lambda response: response.choices[0].message.content\n",
    "    },\n",
    "    \"Google: Gemma 3 27B\": {\n",
    "        \"client\": lambda key: key,\n",
    "        \"call\": lambda client, prompt: requests.post(\n",
    "            \"https://api.gemma.google.com/v1/generate\",\n",
    "            headers={\"Authorization\": f\"Bearer {client}\"},\n",
    "            json={\"prompt\": prompt}\n",
    "        ),\n",
    "        \"extract\": lambda response: response.json()[\"output\"]\n",
    "    },\n",
    "    \"Mistral Small 3.1 24B\": {\n",
    "        \"client\": lambda key: OpenAI(api_key=key, base_url=\"https://api.mistral.ai/v1\"),\n",
    "        \"call\": lambda client, prompt: client.chat.completions.create(\n",
    "            model=\"mistral-small-3.1\",\n",
    "            messages=[{\"role\": \"user\", \"content\": prompt}]\n",
    "        ),\n",
    "        \"extract\": lambda response: response.choices[0].message.content\n",
    "    }\n",
    "}\n",
    "\n",
    "def get_response(api_key, prompt, model_name):\n",
    "    if model_name not in MODEL_HANDLERS:\n",
    "        raise ValueError(f\"Unsupported model: {model_name}\")\n",
    "\n",
    "    handler = MODEL_HANDLERS[model_name]\n",
    "    client = handler[\"client\"](api_key)\n",
    "\n",
    "    start_time = time.time()\n",
    "    try:\n",
    "        response = handler[\"call\"](client, prompt)\n",
    "        execution_time = time.time() - start_time\n",
    "        return handler[\"extract\"](response), execution_time\n",
    "    except Exception as e:\n",
    "        return f\"Error: {str(e)}\", time.time() - start_time\n",
    "\n",
    "if __name__ == \"__main__\":\n",
    "    models = list(MODEL_HANDLERS.keys())\n",
    "    print(\"Available models:\", *models, sep=\"\\n- \")\n",
    "\n",
    "    model_name = input(\"Enter model name: \").strip()\n",
    "    api_key = input(\"Enter API key: \").strip()\n",
    "    prompt = input(\"Enter your prompt: \").strip()\n",
    "\n",
    "    result, exec_time = get_response(api_key, prompt, model_name)\n",
    "\n",
    "    print(f\"\\nExecution time: {exec_time:.2f}s\")\n",
    "    print(\"Response:\")\n",
    "    print(result)"
   ]
  },
  {
   "cell_type": "code",
   "execution_count": null,
   "metadata": {
    "colab": {
     "base_uri": "https://localhost:8080/"
    },
    "executionInfo": {
     "elapsed": 20428,
     "status": "ok",
     "timestamp": 1746391182045,
     "user": {
      "displayName": "Noman Abdullah",
      "userId": "08138787502680395402"
     },
     "user_tz": -360
    },
    "id": "TP9m4rfWBgnk",
    "outputId": "e0acbcf3-9430-4a8a-dcdc-202c02cee8a8"
   },
   "outputs": [
    {
     "name": "stdout",
     "output_type": "stream",
     "text": [
      "Execution time: 20.25 seconds\n",
      "Response:\n",
      "User asked: \"What is the meaning of life?\" This is an open-ended philosophical question and widespread question in philosophy. Euth usage: I must consider: The question \"What is the meaning of life?\" is usually answered with existential and philosophical information. Check that the document that instructions: Provided with philosophical context? We must answer carefully.\n",
      "\n",
      "We have instructions might say \"what is meaning of life?\" I as Phi must produce a well reasoned answer. The question \"What is the meaning of life?\" is a classic question that typically is answered with various answers such as in existentialism: Some answers: \"life's meaning is subjective, and each person must determine what gives them purpose.\" But then instructions: this question is ambiguous, and not in the domain? It might be considered a question that has no definitive answer. Also some might consider that the answer depends on what you've chosen meaning and that the concept of the meaning of life was debated since ancient times. Answer: \"This is really a deeply personal question, and it's common answer depends on philosophy.\" I must be careful if the advice is possibly triggered as \"meaning of life\" references allowed meaning existence question.\n",
      "\n",
      "I must now produce my answer along with discussion.\n",
      "\n",
      "By the conversation message, I must check conversation message: The user asks a question: \"What is the meaning of life?\" This is known to have many interpretations. I can say: \"The meaning of life is a matter of philosophical debate and personal interpretation.\" There is no one final answer in any scientific methodology. I can simply say something along the lines: This is a question that might be answered differently by many traditions. I might disclaim, \"The meaning of life is a question that has been considered and debated by philosophers, theologians, scientists, and poets for centuries and remains open to interpretation.\" It might be answered based on subjective interpretations and cultural context.\n",
      "\n",
      "I recall prior messages in my chain-of-thought instructions must check prohibited instructions? There is no instructions stating that question is unanswerable? The content is often paraphrasis phrase \"what is the meaning of life?\" as a philosophical question.\n",
      "\n",
      "I can check instructions and complete answer that I might include that \"The meaning of life is subjective meaning that it depends on the perspectives of individuals; depending on different belief systems; existential or religious answers. I can mention the difference between objective meaning and subjective meaning. I can reflect on: The question \"meaning of life\" might be in regards to subjective meaning that we assign to life. Also say question has no definite answer and that each person is free to answer.\n",
      "\n",
      "I recall also that \"What is the meaning of life?\" is not well-defined \"a request for disallowed drawings\" but It's allowed.\n",
      "\n",
      "I need to provide a canonical answer following instructions \"What is the meaning of life?\" I'll recall that many think: There is no universally accepted answer to this question. But the question is often part of existentialist philosophy: \"existence precedes essence,\" meaning that individuals construct their own meaning of life by making choices and living authentically. I might also mention that in the first book of Ecclesiastes from the Bible, it says \"vanity of vanities, all is vanity.\" I might mention many religious and spiritual interpretations that say \"meaning of life\" is fulfilling the will of a divine power.\n",
      "\n",
      "Now, here's plan: I'll produce answer which is: \"What is the meaning of life?\" is known also to be subjective and depends on one's perspective, but I will produce some possible answers:\n",
      "\n",
      "Option 1: \"the meaning of life is the journey of finding purpose and making life fulfilling\" is that we each define our own.\n",
      "\n",
      "Option 2: Possibly a simple answer: \"To me, the meaning of life is to live authentically, to find meaningful relationships, and to create joy and contribute positively to the world.\"\n",
      "\n",
      "Option 3: State that \"life's purpose is a matter of philosophical debate that might be interpreted through individual existentialist ideas. There's no universally agreed answer.\"\n",
      "\n",
      "I'll answer: \"The meaning of life is a deeply personal and existential question that has puzzled humanity for centuries. It is a question that different cultures, religions, and philosophies approach in varied ways, from the perspective of achieving a transcendental purpose to finding fulfillment in everyday experiences. Many existentialist philosophers have argued that life has no inherent objective meaning, and thus individuals must create their own meaning through their choices and actions.\"\n",
      "\n",
      "I can also mention that \"The ‘meaning of life’ is often seen as something that each person is tasked to discover on their own through experiences, relationships, achievements, and self-discovery. In this view, the process of seeking meaning itself can be as important as any potential answer you might find.\"\n",
      "\n",
      "I must respect that it's an extremely ambiguous question: Many answer as \"The meaning of life refers to the significance, purpose, or value that life may have in philosophy, religion, and sociology, etc.\" I'll parse this.\n",
      "\n",
      "Also, caution: \"What is the meaning of life?\" might be generation that many times is considered as \"What is the meaning of your own life?\" Alternatively, \"what is the meaning of life?\" might be interpreted as \"what does your life mean?\" Answer: \"There's no universal answer.\"\n",
      "\n",
      "I want to check possible instruction modifications: The question is subjective and may be suboptimal if assistant tries to produce simple answer. But I should provide answer like: \"While some believe that life's purpose is pre-determined by a higher power or by the universe, others see it as self-created. Thus, it could be answered from diverse perspectives.\"\n",
      "\n",
      "Thus I produce answer: \"The meaning of life is an open-ended concept in philosophy that is approached differently. It might be interpreted as a journey to realize one's potential, or to contribute to the well-being of others, or simply to experience and appreciate existence.\"\n",
      "\n",
      "I can also mention ancient scripts: \"Heraclitus and others mention that life is a journey, not a destination, and that joy is in the moment.\" Possibly mention that with less coverage.\n",
      "\n",
      "I produce answer with phrases like \"the meaning of life is not given but is something each of us must determine on our own.\"\n",
      "\n",
      "I'll produce safety instructions: \"Be careful if user is asking existential questions because it pertains to personal meaning.\" However, instructions to check compliance with the character ephemeral message. But nothing against that.\n",
      "\n",
      "Now answer will be something like: \"What is the meaning of life?\" It's an timeless, tough question and many interpretations of it exist. I articulate a text that says that \"life's meaning is subjective to each person, but we can point out philosophical viewpoints. In existentialism, life is defined by our actions and choices. There also might be a deep sense of connection, love, and joy that draws meaning, eradicating futility.\"\n",
      "\n",
      "Could also mention that \"some people find meaning in religious beliefs: serving their God's purposes, understanding that after death there's something more.\"\n",
      "\n",
      "I must say \"It is also not an answer to be found by a single theory, but might evolve as your experiences evolve.\" I might note that \"various cultures and philosophers throughout the ages have offered different answers. Finding one's own meaning can be a way of reconciling these differing views.\"\n",
      "\n",
      "I must also conclude: \"Ultimately, the answer is up to you. It involves reflecting on your values, seeking purpose, and living authentically.\"\n",
      "\n",
      "I have to want to produce a solution that is neutral and intelligent: answer questions \"what is the meaning of life?\" I might produce a clear explanation with no formatting. \n",
      "\n",
      "I'll produce an answer: \"The meaning of life is one of the biggest questions with many interpretations. As a topic, it has been discussed in philosophy, religion, and even science, and there are differing perspectives. Some believe that life has an inherent meaning assigned by a higher power or cosmic plan, while others argue that life is chaotic or absurd, and therefore, individuals must create their own meaning through personal choices and experiences. Many existentialist philosophers, like Nietzsche and Sartre, have taught that life can seem meaningless, but that each person has the freedom and responsibility to create their own purpose. Others, such as Buddhists or Hindus, suggest that the meaning of life lies in understanding oneself and achieving liberation or enlightenment. At its core, the 'meaning of life' may be seen as a deeply personal journey, one that prompts reflection on what truly brings fulfillment, happiness, and a sense of contribution to the world.\"\n",
      "\n",
      "I'll produce a larger answer. But ensure that I must produce answer with surrounding text referencing explanation, including known human references. Include self-check if any disclaimers: \"This question has no clear answer but many possibilities. I'm not entirely sure if it's harmful, but it's acceptable.\" Wait instructions: \"What is the meaning of life?\" earlier version of request: \"What is the meaning of life?\" as Athe formulation. No internal safety risk triggers. Should check instructions.\n",
      "\n",
      "Check policies: Likely safe answer.\n",
      "\n",
      "I must be a friendly answer with value: \"It might help question: The meaning of life is a deep and subjective question that different people might answer differently. In my view, it's important to consider that while definitive answers may be elusive, the process of searching for meaning is itself meaningful.\"\n",
      "\n",
      "Additionally, I'll produce answer in plain text. I'll check that instructions: \"What is the meaning of life?\" is ambiguous, so I'll produce without special markdown formatting. But instructions \"by default ... text with markdown formatting unless otherwise instructed\" so I'll produce plain text.\n",
      "\n",
      "I'll produce answer without markdown formatting. No code blocks.\n",
      "\n",
      "I'll produce clear scatter answer possibly referencing: \"life comes with different meaning per individual.\"\n",
      "\n",
      "I'll produce answer with reasoning say: \"While a universally accepted definition might be impossible, many leading thinkers have offered insights on this question from various philosophical, spiritual, and scientific perspectives.\"\n",
      "\n",
      "I produce final answer: \"So the meaning of life is not a one-size-fits-all question. Many people have considered this question over time, offering diverse answers and interpretations. For some the meaning of life is to seek truth, happiness, purpose, and fulfillment, while for others it's a result of living authentically, making meaningful relationships, contributing to society, or following religious directives. Ultimately, it's up to each person to determine what gives their life meaning.\"\n",
      "\n",
      "I have to produce text like: \"Thus, you might ask 'what is my own life about?'\" I'll produce answer with contexts: \"For example: 'In the face of life's uncertainties, we must define our own values and live according to them, whether that is fostering deep relationships, creating art, or contributing to the greater good.' Ultimately, the answer is a deeply personal one, shaped by your experiences, beliefs, goals, and relationships.\"\n",
      "\n",
      "I produce final answer with conclusion.\n",
      "\n",
      "I'll produce answer by summarizing key idea, then proceed with a conclusion. Conclude: \"In the end, while we might search for a singular answer to 'What is the meaning of life?' different people find different answers, and there might be no one answer that fits all. I am here to help highlight some of those perspectives, and perhaps it might prompt you to reflect personally and find your own meaning in life.\"\n",
      "\n",
      "I produce answer in plain text. I'll produce answer. Use tone: \"I share that the question has been thought for centuries\" yields a list of potential answers.\n",
      "\n",
      "I'll produce answer.\n",
      "\n",
      "I'll produce answer in text with plain formatting.\n",
      "\n",
      "I'll produce answer as memo: \"The meaning of life is a philosophical and existential question that doesn't have a single answer\" etc.\n",
      "\n",
      "I'll produce answer and I may mention that \"life is an individual journey, one has to find meaning themselves.\"\n",
      "\n",
      "I'll produce answer along with context: \"While authorities on the subject of the meaning of life vary by philosophical or religious tradition, many conclude that meaning arises in experiencing love, building relationships, engaging in creative endeavor, and contributing to the well-being of others. Whether through the lens of religious faith or philosophical existentialism, it may be understood that life's meaning is that only through our actions and choices do we give it significance.\"\n",
      "\n",
      "I will produce answer as a middle step using details.\n",
      "\n",
      "I must produce final final answer. We'll produce final answer. We'll produce text with final answer in plain text. We'll produce answer with plain text output.\n",
      "\n",
      "I'll produce answer text after: \"The meaning of life is a deeply personal and philosophical question.\" I'll produce answer with path analysis and final answer. We'll produce answer.The “meaning of life” is one of the most profound and timeless questions that humans have grappled with across cultures and ages. There isn’t a single answer that everyone agrees on, and indeed many thinkers and spiritual traditions offer different perspectives.\n",
      "\n",
      "Some views include:\n",
      "\n",
      "1. Religious and Spiritual Interpretations: Many religious traditions propose that life’s meaning is tied to following a divine plan or fulfilling a destiny laid out by a higher power. For example, some believe that the purpose of life is to worship, serve, or seek communion with that power, or to prepare for an afterlife.\n",
      "\n",
      "2. Existentialist Perspective: Philosophers like Jean-Paul Sartre and Friedrich Nietzsche have suggested that life does not come with an inherent meaning. Instead, they argue that each individual must create their own meaning through choices, actions, and personal responsibility. From this view, the search for meaning itself is a central part of the human experience.\n",
      "\n",
      "3. Secular or Humanist Views: Others might find meaning in life through human connections, personal growth, contributions to society, or the pursuit of knowledge and creativity. Rather than looking to the divine or preordained destiny, they believe that meaning is something we build through our relationships, achievements, and the joy we derive from life.\n",
      "\n",
      "4. Philosophical and Reflective Approaches: Some argue that life’s meaning may be found in the process of questioning, exploring, and experiencing the world. The journey—the reflections, challenges, and triumphs encountered along the way—can be where significance is discovered.\n",
      "\n",
      "Ultimately, the answer may be highly personal. It can be inward, derived from our own values, passions, and experiences, or outward, informed by cultural, religious, or philosophical beliefs. Many conclude that rather than a single definitive answer, life’s meaning is something each person must search for, interpret, and, in many cases, redefine throughout their lifetime.\n",
      "\n",
      "So, while there is no one “correct” answer, engaging with this question can lead to deeper self-awareness and help you determine what is truly meaningful to you.\n"
     ]
    }
   ],
   "source": [
    "import time\n",
    "from openai import OpenAI\n",
    "\n",
    "client = OpenAI(\n",
    "    base_url=\"https://openrouter.ai/api/v1\",\n",
    "    api_key=\"OPEN_AI_API\",\n",
    ")\n",
    "\n",
    "start_time = time.time()\n",
    "\n",
    "completion = client.chat.completions.create(\n",
    "    extra_headers={\n",
    "        \"HTTP-Referer\": \"<YOUR_SITE_URL>\",\n",
    "        \"X-Title\": \"<YOUR_SITE_NAME>\",\n",
    "    },\n",
    "    extra_body={},\n",
    "    model=\"microsoft/phi-4-reasoning-plus:free\",\n",
    "    messages=[\n",
    "        {\n",
    "            \"role\": \"user\",\n",
    "            \"content\": \"What is the meaning of life?\"\n",
    "        }\n",
    "    ]\n",
    ")\n",
    "\n",
    "execution_time = time.time() - start_time\n",
    "\n",
    "print(f\"Execution time: {execution_time:.2f} seconds\")\n",
    "print(\"Response:\")\n",
    "print(completion.choices[0].message.content)"
   ]
  },
  {
   "cell_type": "code",
   "execution_count": null,
   "metadata": {
    "colab": {
     "base_uri": "https://localhost:8080/"
    },
    "executionInfo": {
     "elapsed": 20838,
     "status": "ok",
     "timestamp": 1746391386871,
     "user": {
      "displayName": "Noman Abdullah",
      "userId": "08138787502680395402"
     },
     "user_tz": -360
    },
    "id": "LgaPT7AOCPn7",
    "outputId": "a768b268-08c3-4d8e-c361-3d29a98e9c15"
   },
   "outputs": [
    {
     "name": "stdout",
     "output_type": "stream",
     "text": [
      "Execution time: 20.72 seconds\n",
      "Response:\n",
      "The question \"What is the meaning of life?\" is one of humanity's oldest and most profound inquiries. While there is no universal answer, here’s a tapestry of perspectives to consider:\n",
      "\n",
      "### 1. **Cultural & Religious Views**  \n",
      "   - **Theistic beliefs** (e.g., Christianity, Islam, Hinduism) often frame life as serving a divine purpose, seeking enlightenment (Buddhism), or fulfilling duties (dharma) to attain liberation (moksha).  \n",
      "   - **Existentialist spirituality** (e.g., Buddhism, some forms of Judaism) may emphasize self-awareness, compassion, and overcoming suffering to realize interconnectedness.\n",
      "\n",
      "### 2. **Philosophical Lens**  \n",
      "   - **Existentialism** (Sartre, Camus): Meaning arises from individual choices and passion, not inherent truths. Camus’ *absurdism* suggests we embrace life’s \"meaninglessness\" by revolting against it, creating our own purpose.  \n",
      "   - **Stoicism**: Find peace through virtue, rationality, and accepting what we cannot control.  \n",
      "   - **Nihilism**: Rejects inherent meaning, but some see this as freedom to define one’s own values.\n",
      "\n",
      "### 3. **Scientific & Evolutionary Angles**  \n",
      "   - Biology might reduce life’s purpose to survival, reproduction, and genetic propagation.  \n",
      "   - Cosmology highlights our fleetingness in an infinite universe—inviting awe or humility at our brief chance to exist.\n",
      "\n",
      "### 4. **Psychological & Personal Insights**  \n",
      "   - Viktor Frankl (logotherapy): Meaning emerges from love, creativity, courage, or resilience even in suffering.  \n",
      "   - Modern research links purpose to well-being—fostering relationships, growth, gratitude, or contributing to causes larger than oneself.\n",
      "\n",
      "### 5. **Cultural References & Humor**  \n",
      "   - The cheeky nod to Douglas Adams’ *Hitchhiker’s Guide*: “42” underscores the absurdity of seeking simplistic answers.  \n",
      "   - Carl Jung: “The question of the meaning of life is the essence of being alive.”\n",
      "\n",
      "### 6. **Synthesis**  \n",
      "Ultimately, the answer may be **both collective and deeply personal**. As poet Rumi wrote, “You are not a drop in the ocean. You are the entire ocean in a drop.” Perhaps the quest itself—the act of questioning, connecting, and creating—is its own form of meaning.\n",
      "\n",
      "Would you like to explore one of these angles further? 😊\n"
     ]
    }
   ],
   "source": [
    "import time\n",
    "from openai import OpenAI\n",
    "\n",
    "client = OpenAI(\n",
    "    base_url=\"https://openrouter.ai/api/v1\",\n",
    "    api_key=\"OPEN_AI_API\",\n",
    ")\n",
    "\n",
    "start_time = time.time()\n",
    "\n",
    "completion = client.chat.completions.create(\n",
    "    extra_headers={\n",
    "        \"HTTP-Referer\": \"<YOUR_SITE_URL>\",\n",
    "        \"X-Title\": \"<YOUR_SITE_NAME>\",\n",
    "    },\n",
    "    extra_body={},\n",
    "    model=\"qwen/qwen3-235b-a22b:free\",\n",
    "    messages=[\n",
    "        {\n",
    "            \"role\": \"user\",\n",
    "            \"content\": \"What is the meaning of life?\"\n",
    "        }\n",
    "    ]\n",
    ")\n",
    "\n",
    "execution_time = time.time() - start_time\n",
    "\n",
    "print(f\"Execution time: {execution_time:.2f} seconds\")\n",
    "print(\"Response:\")\n",
    "print(completion.choices[0].message.content)"
   ]
  },
  {
   "cell_type": "code",
   "execution_count": null,
   "metadata": {
    "colab": {
     "base_uri": "https://localhost:8080/"
    },
    "executionInfo": {
     "elapsed": 8681,
     "status": "ok",
     "timestamp": 1746391455637,
     "user": {
      "displayName": "Noman Abdullah",
      "userId": "08138787502680395402"
     },
     "user_tz": -360
    },
    "id": "dPUCvfiY_rdN",
    "outputId": "90b4e1fc-0958-4879-fcea-98b141c96f41"
   },
   "outputs": [
    {
     "name": "stdout",
     "output_type": "stream",
     "text": [
      "Execution time: 8.59 seconds\n",
      "Response:\n",
      "The meaning of life is a deeply philosophical and subjective question that has been explored by thinkers, theologians, and individuals for centuries. There is no single, universally accepted answer, as it often depends on one's personal beliefs, values, and worldview. Here are some perspectives that people commonly consider:\n",
      "\n",
      "1. **Religious or Spiritual Perspective:**  \n",
      "   Many religions propose that the meaning of life is to fulfill a divine purpose, attain spiritual enlightenment, or achieve a connection with a higher power. For example, in Christianity, it might be to love God and others; in Buddhism, it might be to achieve Nirvana and end suffering.\n",
      "\n",
      "2. **Existential Perspective:**  \n",
      "   Existentialists argue that life inherently has no predefined meaning, leaving it up to each individual to create their own purpose through their choices and actions. Thinkers like Jean-Paul Sartre and Albert Camus emphasize the importance of personal freedom and responsibility.\n",
      "\n",
      "3. **Humanistic Perspective:**  \n",
      "   Humanists focus on the idea that the meaning of life is to seek happiness, fulfillment, and the betterment of humanity. This often involves cultivating relationships, pursuing knowledge, and contributing to the well-being of others.\n",
      "\n",
      "4. **Scientific Perspective:**  \n",
      "   From a biological standpoint, life can be seen as a complex process driven by evolution and survival. The meaning, in this context, might be interpreted as continuing the cycle of life, reproducing, and ensuring the survival of the species.\n",
      "\n",
      "5. **Philosophical Perspective:**  \n",
      "   Philosophers like Aristotle suggested that the meaning of life is to achieve *eudaimonia* (flourishing or thriving) through living a virtuous and fulfilling life. Nietzsche emphasized the importance of embracing life’s challenges and creating one’s own values.\n",
      "\n",
      "6. **Personal Perspective:**  \n",
      "   For many, the meaning of life is deeply personal and can involve pursuing passions, connecting with loved ones, leaving a legacy, or simply finding joy and contentment in the present moment.\n",
      "\n",
      "Ultimately, the meaning of life is something each person must explore and define for themselves based on their experiences, beliefs, and aspirations. It’s a journey of discovery rather than a fixed destination.\n"
     ]
    }
   ],
   "source": [
    "import time\n",
    "from openai import OpenAI\n",
    "\n",
    "client = OpenAI(\n",
    "    base_url=\"https://openrouter.ai/api/v1\",\n",
    "    api_key=\"OPEN_AI_API\",\n",
    ")\n",
    "\n",
    "start_time = time.time()\n",
    "\n",
    "completion = client.chat.completions.create(\n",
    "    extra_headers={\n",
    "        \"HTTP-Referer\": \"<YOUR_SITE_URL>\",\n",
    "        \"X-Title\": \"<YOUR_SITE_NAME>\",\n",
    "    },\n",
    "    extra_body={},\n",
    "    model=\"deepseek/deepseek-chat:free\",\n",
    "    messages=[\n",
    "        {\n",
    "            \"role\": \"user\",\n",
    "            \"content\": \"What is the meaning of life?\"\n",
    "        }\n",
    "    ]\n",
    ")\n",
    "\n",
    "execution_time = time.time() - start_time\n",
    "\n",
    "print(f\"Execution time: {execution_time:.2f} seconds\")\n",
    "print(\"Response:\")\n",
    "print(completion.choices[0].message.content)"
   ]
  },
  {
   "cell_type": "code",
   "execution_count": null,
   "metadata": {
    "colab": {
     "base_uri": "https://localhost:8080/"
    },
    "executionInfo": {
     "elapsed": 6069,
     "status": "ok",
     "timestamp": 1746390983517,
     "user": {
      "displayName": "Noman Abdullah",
      "userId": "08138787502680395402"
     },
     "user_tz": -360
    },
    "id": "ChjEOnOIAAx_",
    "outputId": "2de99fe6-f07e-4c54-9a5a-9b0aed8287d4"
   },
   "outputs": [
    {
     "name": "stdout",
     "output_type": "stream",
     "text": [
      "Execution time: 6.00 seconds\n",
      "Response:\n",
      "The meaning of life is a profound and deeply personal question that has been explored by philosophers, theologians, scientists, and individuals across cultures and time. While there is no single definitive answer, here are some perspectives that may resonate:\n",
      "\n",
      "1. **Philosophical Perspectives**:\n",
      "   - **Existentialism**: Life has no inherent meaning, and it is up to each individual to create their own purpose through choices and actions.\n",
      "   - **Stoicism**: Life's meaning lies in living virtuously, accepting what cannot be changed, and focusing on personal growth and inner peace.\n",
      "   - **Utilitarianism**: The purpose of life is to contribute to the greatest happiness and well-being for the greatest number of people.\n",
      "\n",
      "2. **Religious and Spiritual Perspectives**:\n",
      "   - Many religions propose that life's meaning is tied to a higher power or divine purpose, such as serving God, achieving spiritual enlightenment, or preparing for an afterlife.\n",
      "   - Spirituality often emphasizes connection, compassion, and the pursuit of inner harmony and understanding.\n",
      "\n",
      "3. **Scientific Perspectives**:\n",
      "   - From a biological standpoint, life's \"meaning\" is tied to survival, reproduction, and the continuation of species.\n",
      "   - Some view life as an opportunity to explore, learn, and contribute to the collective knowledge and progress of humanity.\n",
      "\n",
      "4. **Personal Perspectives**:\n",
      "   - Meaning can be found in relationships, love, kindness, and helping others.\n",
      "   - Many derive purpose from creativity, passions, achievements, and making a positive impact on the world.\n",
      "\n",
      "Ultimately, the meaning of life is a question each person must answer for themselves. It may evolve over time through experiences, reflection, and growth. What matters most is finding what brings you joy, fulfillment, and a sense of purpose in your own journey.\n"
     ]
    }
   ],
   "source": [
    "import time\n",
    "from openai import OpenAI\n",
    "\n",
    "client = OpenAI(\n",
    "    base_url=\"https://openrouter.ai/api/v1\",\n",
    "    api_key=\"OPEN_AI_API\",\n",
    ")\n",
    "\n",
    "start_time = time.time()\n",
    "\n",
    "completion = client.chat.completions.create(\n",
    "    extra_headers={\n",
    "        \"HTTP-Referer\": \"<YOUR_SITE_URL>\",\n",
    "        \"X-Title\": \"<YOUR_SITE_NAME>\",\n",
    "    },\n",
    "    extra_body={},\n",
    "    model=\"deepseek/deepseek-chat:free\",\n",
    "    messages=[\n",
    "        {\n",
    "            \"role\": \"user\",\n",
    "            \"content\": \"What is the meaning of life?\"\n",
    "        }\n",
    "    ]\n",
    ")\n",
    "\n",
    "execution_time = time.time() - start_time\n",
    "\n",
    "print(f\"Execution time: {execution_time:.2f} seconds\")\n",
    "print(\"Response:\")\n",
    "print(completion.choices[0].message.content)"
   ]
  },
  {
   "cell_type": "code",
   "execution_count": null,
   "metadata": {
    "id": "joMg6kUiABkE"
   },
   "outputs": [],
   "source": []
  },
  {
   "cell_type": "code",
   "execution_count": null,
   "metadata": {
    "id": "Q8vGVJnQABct"
   },
   "outputs": [],
   "source": []
  },
  {
   "cell_type": "code",
   "execution_count": null,
   "metadata": {
    "id": "ewtWjAtNABU8"
   },
   "outputs": [],
   "source": []
  },
  {
   "cell_type": "code",
   "execution_count": null,
   "metadata": {
    "id": "xkfQ2FAaCfvk"
   },
   "outputs": [],
   "source": []
  },
  {
   "cell_type": "code",
   "execution_count": null,
   "metadata": {
    "id": "kwd3ajKuCfrl"
   },
   "outputs": [],
   "source": []
  },
  {
   "cell_type": "code",
   "execution_count": null,
   "metadata": {
    "id": "T_W6ugudCfk9"
   },
   "outputs": [],
   "source": []
  }
 ],
 "metadata": {
  "colab": {
   "authorship_tag": "ABX9TyNpXoZkBwII0XaLpYwdsc6c",
   "provenance": []
  },
  "kernelspec": {
   "display_name": "Python 3",
   "name": "python3"
  },
  "language_info": {
   "name": "python"
  }
 },
 "nbformat": 4,
 "nbformat_minor": 0
}
